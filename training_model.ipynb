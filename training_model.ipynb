{
  "nbformat": 4,
  "nbformat_minor": 0,
  "metadata": {
    "colab": {
      "name": "training_model.ipynb",
      "version": "0.3.2",
      "provenance": [],
      "toc_visible": true,
      "include_colab_link": true
    },
    "kernelspec": {
      "display_name": "Python 3",
      "language": "python",
      "name": "python3"
    }
  },
  "cells": [
    {
      "cell_type": "markdown",
      "metadata": {
        "id": "view-in-github",
        "colab_type": "text"
      },
      "source": [
        "<a href=\"https://colab.research.google.com/github/huiling0621/zhuhuiling/blob/master/training_model.ipynb\" target=\"_parent\"><img src=\"https://colab.research.google.com/assets/colab-badge.svg\" alt=\"Open In Colab\"/></a>"
      ]
    },
    {
      "metadata": {
        "id": "fNoCIr1-pto6",
        "colab_type": "text"
      },
      "cell_type": "markdown",
      "source": [
        "# 对图像进行压缩\n"
      ]
    },
    {
      "metadata": {
        "id": "sSB1NjTdpto-",
        "colab_type": "code",
        "colab": {}
      },
      "cell_type": "code",
      "source": [
        "import pandas as pd\n",
        "from PIL import Image  #Python的图像处理库\n",
        "import numpy as np\n",
        "import os\n",
        "from random import shuffle\n",
        "import matplotlib.pyplot as plt\n",
        "import gc"
      ],
      "execution_count": 0,
      "outputs": []
    },
    {
      "metadata": {
        "id": "d3uUyDhvptpK",
        "colab_type": "code",
        "colab": {}
      },
      "cell_type": "code",
      "source": [
        "DIR = 'image'\n",
        "for i in os.listdir(DIR):\n",
        "        path = os.path.join(DIR,i) #找到图片路径\n",
        "       # img_resize(path,\"im\",224,224)  #根据路径打开图片\n",
        "        img = Image.open(path)        \n",
        "        new_image = img.resize((224,224),Image.BILINEAR)\n",
        "        new_image=new_image.convert('RGB')\n",
        "        new_image.save(os.path.join('im',os.path.basename(path)))\n"
      ],
      "execution_count": 0,
      "outputs": []
    },
    {
      "metadata": {
        "id": "qcKNm8a7ptpP",
        "colab_type": "text"
      },
      "cell_type": "markdown",
      "source": [
        "# 利用labelme对压缩后的图形进行贴标签"
      ]
    },
    {
      "metadata": {
        "id": "vqzpmzHuptpR",
        "colab_type": "code",
        "colab": {}
      },
      "cell_type": "code",
      "source": [
        "import os\n",
        "import os.path\n",
        "import re\n",
        "import sys\n",
        "import codecs\n",
        "import hashlib\n",
        "import json\n",
        "import os.path\n",
        "import shutil\n",
        "import uuid\n",
        "import skimage.draw\n",
        "import skimage.io\n"
      ],
      "execution_count": 0,
      "outputs": []
    },
    {
      "metadata": {
        "id": "6pecD3riptpX",
        "colab_type": "code",
        "colab": {}
      },
      "cell_type": "code",
      "source": [
        "from pathlib import Path\n",
        "import json\n",
        "\n",
        "analysis_root_dir = \"C:/Users/zhuhuiling/Desktop/scratch1\"\n",
        "path = Path(analysis_root_dir)\n",
        "all_json_file = list(path.glob('**/*.json'))\n",
        "parse_result = []\n",
        "for json_file in all_json_file:\n",
        "    # 获取所在目录的名称\n",
        "    service_name = json_file.parent.stem\n",
        "    with json_file.open() as f:\n",
        "        json_result = json.load(f)\n",
        "    parse_result.append(json_result) \n"
      ],
      "execution_count": 0,
      "outputs": []
    },
    {
      "metadata": {
        "id": "JQVAPk9iptpd",
        "colab_type": "code",
        "colab": {}
      },
      "cell_type": "code",
      "source": [
        "r,c=(224,224)\n",
        "groups = (\"training1\", \"test1\")\n",
        "for group in groups:\n",
        "    dictionaries = [] \n",
        "    for i in parse_result[:256]: \n",
        "        pathname = \"im/\"+ i[\"imagePath\"]\n",
        "        if os.path.exists(path):\n",
        "            dictionary = {\n",
        "                        \"image\": {\n",
        "                        \"pathname\": pathname,\n",
        "                        \"shape\": {\n",
        "                                \"r\": r,\n",
        "                                \"c\": c,\n",
        "                                \"channels\": 3\n",
        "                            }\n",
        "                        },\n",
        "                        \"objects\": []\n",
        "                    }\n",
        "            for j in i[\"shapes\"]:\n",
        "                category = j['label']\n",
        "                (bounding_box_r, bounding_box_c)=j['points']\n",
        "                minimum_r, maximum_r = bounding_box_r\n",
        "                minimum_c, maximum_c = bounding_box_c\n",
        "                object_dictionary = {\n",
        "                        \"bounding_box\": {\n",
        "                             \"minimum\": {\n",
        "                                 \"r\": minimum_r - 1,\n",
        "                                 \"c\": minimum_c - 1\n",
        "                         },\n",
        "                         \"maximum\": {\n",
        "                                \"r\": maximum_r - 1,\n",
        "                                \"c\": maximum_c - 1\n",
        "                            }\n",
        "                       },\n",
        "                        \"category\": category\n",
        "                    }\n",
        "                dictionary[\"objects\"].append(object_dictionary)\n",
        "            dictionaries.append(dictionary)\n",
        "            filename = \"{}.json\".format(group)\n",
        "            with open(filename, \"w\") as stream:\n",
        "                json.dump(dictionaries, stream)#dumps是将dict转化成str格式，loads是将str转化成dict格式。\n",
        "\n",
        "\n",
        "#得到training1.json和test.json        \n",
        "        "
      ],
      "execution_count": 0,
      "outputs": []
    },
    {
      "metadata": {
        "id": "EYC6QwPWptpi",
        "colab_type": "text"
      },
      "cell_type": "markdown",
      "source": [
        "# 将json文档转换成标准格式\n"
      ]
    },
    {
      "metadata": {
        "id": "Sb_mGNW4ptpn",
        "colab_type": "code",
        "colab": {}
      },
      "cell_type": "code",
      "source": [
        "import hashlib\n",
        "import json\n",
        "import os.path\n",
        "import shutil\n",
        "import uuid\n",
        "import skimage.draw\n",
        "import skimage.io\n",
        "import os\n",
        "import os.path\n",
        "import re\n",
        "import sys\n",
        "import codecs"
      ],
      "execution_count": 0,
      "outputs": []
    },
    {
      "metadata": {
        "id": "tmO0sVS4ptpq",
        "colab_type": "code",
        "colab": {}
      },
      "cell_type": "code",
      "source": [
        "def md5sum(pathname, blocksize=65536):\n",
        "    checksum = hashlib.md5()##md5对象，md5不能反解，但是加密是固定的，就是关系是一一对应，所以有缺陷，可以被对撞出来,其作用就是加密\n",
        "\n",
        "    with open(pathname, \"rb\") as stream:\n",
        "        for block in iter(lambda: stream.read(blocksize), b\"\"):\n",
        "            checksum.update(block)\n",
        "\n",
        "    return checksum.hexdigest()"
      ],
      "execution_count": 0,
      "outputs": []
    },
    {
      "metadata": {
        "id": "1a9SaHlBptpt",
        "colab_type": "code",
        "colab": {}
      },
      "cell_type": "code",
      "source": [
        "from pathlib import Path\n",
        "import json\n",
        "\n",
        "analysis_root_dir = \"C:/Users/zhuhuiling/Desktop/scratch1\"#存放所有.json文档的地方\n",
        "path = Path(analysis_root_dir)\n",
        "all_json_file = list(path.glob('**/*.json'))\n",
        "parse_result = []\n",
        "for json_file in all_json_file:\n",
        "    # 获取所在目录的名称\n",
        "    service_name = json_file.parent.stem\n",
        "    with json_file.open() as f:\n",
        "        json_result = json.load(f)\n",
        "    parse_result.append(json_result) "
      ],
      "execution_count": 0,
      "outputs": []
    },
    {
      "metadata": {
        "id": "3Aw3PKB5ptpz",
        "colab_type": "code",
        "colab": {}
      },
      "cell_type": "code",
      "source": [
        "r,c = (224,224)\n",
        "groups = (\"training1\", \"test1\")\n",
        "for group in groups:\n",
        "    dictionaries = [] \n",
        "    for i in parse_result[:256]: \n",
        "        pathname = \"im/\"+ i[\"imagePath\"]\n",
        "        if os.path.exists(path):\n",
        "            dictionary = {\n",
        "                        \"image\": {\n",
        "                        \"pathname\": pathname,\n",
        "                        \"shape\": {\n",
        "                                \"r\": r,\n",
        "                                \"c\": c,\n",
        "                                \"channels\": 3\n",
        "                            }\n",
        "                        },\n",
        "                        \"objects\": []\n",
        "                    }\n",
        "            for j in i[\"shapes\"]:\n",
        "                category = j['label']\n",
        "                (bounding_box_r, bounding_box_c)=j['points']\n",
        "                minimum_r, maximum_r = bounding_box_r\n",
        "                minimum_c, maximum_c = bounding_box_c\n",
        "                object_dictionary = {\n",
        "                        \"bounding_box\": {\n",
        "                             \"minimum\": {\n",
        "                                 \"r\": minimum_r - 1,\n",
        "                                 \"c\": minimum_c - 1\n",
        "                         },\n",
        "                         \"maximum\": {\n",
        "                                \"r\": maximum_r - 1,\n",
        "                                \"c\": maximum_c - 1\n",
        "                            }\n",
        "                       },\n",
        "                        \"category\": category\n",
        "                    }\n",
        "                dictionary[\"objects\"].append(object_dictionary)\n",
        "            dictionaries.append(dictionary)\n",
        "            filename = \"{}.json\".format(group)\n",
        "            with open(filename, \"w\") as stream:\n",
        "                json.dump(dictionaries, stream)#dumps是将dict转化成str格式，loads是将str转化成dict格式。\n",
        "\n",
        "\n",
        "        \n",
        " #上述代码的作用是将所有数据分为测试集和训练集       "
      ],
      "execution_count": 0,
      "outputs": []
    },
    {
      "metadata": {
        "id": "MRL3kV5Nptp_",
        "colab_type": "text"
      },
      "cell_type": "markdown",
      "source": [
        "# 将测试集和训练集的.json的路径"
      ]
    },
    {
      "metadata": {
        "id": "jsU083uJptqB",
        "colab_type": "code",
        "colab": {},
        "outputId": "dca7025b-968c-419e-9d9a-aaaf50bf309f"
      },
      "cell_type": "code",
      "source": [
        "\"\"\"\n",
        "A simple example for ploting two figures of a exponential\n",
        "function in order to test the autonomy of the gallery\n",
        "stacking multiple images.\n",
        "\"\"\"\n",
        "\n",
        "import keras\n",
        "import keras_rcnn\n",
        "import keras_rcnn.datasets.shape \n",
        "import keras_rcnn.preprocessing\n",
        "import keras_rcnn.models\n"
      ],
      "execution_count": 0,
      "outputs": [
        {
          "output_type": "stream",
          "text": [
            "D:\\Anaconda3\\lib\\site-packages\\h5py\\__init__.py:34: FutureWarning: Conversion of the second argument of issubdtype from `float` to `np.floating` is deprecated. In future, it will be treated as `np.float64 == np.dtype(float).type`.\n",
            "  from ._conv import register_converters as _register_converters\n",
            "Using TensorFlow backend.\n"
          ],
          "name": "stderr"
        }
      ]
    },
    {
      "metadata": {
        "id": "L0aRC3nMptqN",
        "colab_type": "code",
        "colab": {}
      },
      "cell_type": "code",
      "source": [
        "import json\n",
        "\n",
        "import jsonschema\n",
        "\n",
        "import pkg_resources\n"
      ],
      "execution_count": 0,
      "outputs": []
    },
    {
      "metadata": {
        "id": "S4Z1Zb1IptqS",
        "colab_type": "code",
        "colab": {}
      },
      "cell_type": "code",
      "source": [
        "def load_data():\n",
        "    resource_path = \"/\".join([\"data1\", \"schema.json\"])\n",
        "\n",
        "    with open(pkg_resources.resource_filename(\"keras_rcnn\", resource_path)) as stream:\n",
        "        schema = json.load(stream)\n",
        "\n",
        "    resource_path = \"/\".join([\"data1\", \"shape\", \"training1.json\"])\n",
        "\n",
        "    with open(pkg_resources.resource_filename(\"keras_rcnn\", resource_path)) as stream:\n",
        "        training_dictionary = json.load(stream)\n",
        "\n",
        "    jsonschema.validate(training_dictionary, schema)\n",
        "\n",
        "    for dictionary in training_dictionary:\n",
        "        resource_path = \"/\".join([\"data1\", \"shape\", dictionary[\"image\"][\"pathname\"]])\n",
        "        pathname = pkg_resources.resource_filename(\"keras_rcnn\", resource_path)\n",
        "        dictionary[\"image\"][\"pathname\"] = pathname\n",
        "\n",
        "    resource_path = \"/\".join([\"data1\", \"shape\", \"test1.json\"])\n",
        "\n",
        "    with open(pkg_resources.resource_filename(\"keras_rcnn\", resource_path)) as stream:\n",
        "        test_dictionary = json.load(stream)\n",
        "\n",
        "    jsonschema.validate(test_dictionary, schema)\n",
        "\n",
        "    for dictionary in test_dictionary:\n",
        "        resource_path = \"/\".join([\"data1\", \"shape\", dictionary[\"image\"][\"pathname\"]])\n",
        "        pathname = pkg_resources.resource_filename(\"keras_rcnn\", resource_path)\n",
        "        dictionary[\"image\"][\"pathname\"] = pathname\n",
        "\n",
        "    return training_dictionary, test_dictionary\n"
      ],
      "execution_count": 0,
      "outputs": []
    },
    {
      "metadata": {
        "id": "TwuBB7nHptqY",
        "colab_type": "code",
        "colab": {}
      },
      "cell_type": "code",
      "source": [
        "training_dictionary, test_dictionary = load_data()"
      ],
      "execution_count": 0,
      "outputs": []
    },
    {
      "metadata": {
        "id": "WJlMDc2gptqc",
        "colab_type": "code",
        "colab": {}
      },
      "cell_type": "code",
      "source": [
        "#开始训练模型\n",
        "categories = {\"scratch\":1}\n",
        "\n",
        "generator = keras_rcnn.preprocessing.ObjectDetectionGenerator()\n",
        "\n",
        "generator = generator.flow_from_dictionary(\n",
        "        dictionary=training_dictionary,\n",
        "        categories=categories,\n",
        "        target_size=(224, 224)\n",
        "    )\n",
        "validation_data = keras_rcnn.preprocessing.ObjectDetectionGenerator()\n",
        "validation_data = validation_data.flow_from_dictionary(\n",
        "        dictionary=test_dictionary,\n",
        "        categories=categories,\n",
        "        target_size=(224, 224)\n",
        "    )\n",
        "validation_data\n",
        "keras.backend.set_learning_phase(1)\n",
        "model = keras_rcnn.models.RCNN(\n",
        "        categories = {\"scratch\":1},\n",
        "        dense_units=512,\n",
        "        input_shape=(224, 224, 3)\n",
        "    )\n"
      ],
      "execution_count": 0,
      "outputs": []
    },
    {
      "metadata": {
        "id": "2d40dy_jptqi",
        "colab_type": "code",
        "colab": {}
      },
      "cell_type": "code",
      "source": [
        "optimizer = keras.optimizers.Adam()\n",
        "model.compile(optimizer)"
      ],
      "execution_count": 0,
      "outputs": []
    },
    {
      "metadata": {
        "id": "Jut4iDcyptqm",
        "colab_type": "code",
        "colab": {},
        "outputId": "b6db7044-5d15-4b85-e444-5ff3db4372d5"
      },
      "cell_type": "code",
      "source": [
        "model.fit_generator(\n",
        "        epochs=1,\n",
        "        generator=generator,\n",
        "        validation_data=validation_data\n",
        "    )\n"
      ],
      "execution_count": 0,
      "outputs": [
        {
          "output_type": "stream",
          "text": [
            "D:\\Anaconda3\\lib\\site-packages\\tensorflow\\python\\ops\\gradients_impl.py:112: UserWarning: Converting sparse IndexedSlices to a dense Tensor of unknown shape. This may consume a large amount of memory.\n",
            "  \"Converting sparse IndexedSlices to a dense Tensor of unknown shape. \"\n"
          ],
          "name": "stderr"
        },
        {
          "output_type": "stream",
          "text": [
            "Epoch 1/1\n"
          ],
          "name": "stdout"
        },
        {
          "output_type": "stream",
          "text": [
            "D:\\Anaconda3\\lib\\site-packages\\skimage\\transform\\_warps.py:24: UserWarning: The default multichannel argument (None) is deprecated.  Please specify either True or False explicitly.  multichannel will default to False starting with release 0.16.\n",
            "  warn('The default multichannel argument (None) is deprecated.  Please '\n",
            "D:\\Anaconda3\\lib\\site-packages\\skimage\\transform\\_warps.py:110: UserWarning: Anti-aliasing will be enabled by default in skimage 0.15 to avoid aliasing artifacts when down-sampling images.\n",
            "  warn(\"Anti-aliasing will be enabled by default in skimage 0.15 to \"\n",
            "D:\\Anaconda3\\lib\\site-packages\\skimage\\transform\\_warps.py:105: UserWarning: The default mode, 'constant', will be changed to 'reflect' in skimage 0.15.\n",
            "  warn(\"The default mode, 'constant', will be changed to 'reflect' in \"\n"
          ],
          "name": "stderr"
        },
        {
          "output_type": "stream",
          "text": [
            "\r  1/134 [..............................] - ETA: 27:12 - loss: 1.5592"
          ],
          "name": "stdout"
        }
      ]
    },
    {
      "metadata": {
        "id": "p83kkewkptq-",
        "colab_type": "code",
        "colab": {}
      },
      "cell_type": "code",
      "source": [
        ""
      ],
      "execution_count": 0,
      "outputs": []
    }
  ]
}